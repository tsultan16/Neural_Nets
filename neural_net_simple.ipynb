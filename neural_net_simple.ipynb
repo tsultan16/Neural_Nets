{
 "cells": [
  {
   "attachments": {},
   "cell_type": "markdown",
   "metadata": {},
   "source": [
    "**`Simple Neural Network Implementations`**"
   ]
  },
  {
   "attachments": {},
   "cell_type": "markdown",
   "metadata": {},
   "source": [
    "**Model 1:** We are given a set of instances with numerical attributes, and a numerical label/target value (i.e. ground truth) for each instance. POur goal is to create a neural network that can predict the label for any given instance. In our simplest neural network model, the prediction is just a linear combination of the attributes. The network is trained by optimizing the weights (i.e. constant co-efficients) of this linear combination using gradient descent.\n",
    "\n",
    "To demo this model, we will use the \"traffic lights\" example, where we have three traffic lights, the state of each light is either `on` or `off` (i.e. 1 or 0) and the corresponding label is either walk or stop (1 or 0). The training dataset is contrived such that there is a strong correlation between the second attribute/light and the target. We would therefore expect the second weight to be much larger than the other two weights after the model has been trained sufficiently. "
   ]
  },
  {
   "cell_type": "code",
   "execution_count": 9,
   "metadata": {},
   "outputs": [
    {
     "name": "stdout",
     "output_type": "stream",
     "text": [
      "Initial weights: [-1.02969712 -0.46599741  0.66143296]\n",
      "Iteration# 1, Updated weights: [-0.71679545 -0.00835358  0.94155586], Total error: 4.0545463507026325\n",
      "Iteration# 2, Updated weights: [-0.62875226  0.18567509  0.83731934], Total error: 2.077425957169878\n",
      "Iteration# 3, Updated weights: [-0.55665943  0.32462719  0.72018092], Total error: 1.4927200859844327\n",
      "Iteration# 4, Updated weights: [-0.48849056  0.43444972  0.61733862], Total error: 1.0843576328267484\n",
      "Iteration# 5, Updated weights: [-0.42552766  0.52348898  0.52888333], Total error: 0.791076341265537\n",
      "Iteration# 6, Updated weights: [-0.36876556  0.59672578  0.45299734], Total error: 0.57839637224605\n",
      "Iteration# 7, Updated weights: [-0.31842426  0.65760436  0.38794189], Total error: 0.42337682412962546\n",
      "Iteration# 8, Updated weights: [-0.27426182  0.70861317  0.33219437], Total error: 0.310086025674872\n",
      "Iteration# 9, Updated weights: [-0.23580514  0.7516052   0.28443665], Total error: 0.22717868688080495\n",
      "Iteration# 10, Updated weights: [-0.20248683  0.7879979   0.24353191], Total error: 0.1664639297133136\n",
      "Iteration# 11, Updated weights: [-0.17372207  0.81890181  0.20850181], Total error: 0.12198530719577284\n",
      "Iteration# 12, Updated weights: [-0.14894984  0.84520489  0.17850572], Total error: 0.08939497372838805\n",
      "Iteration# 13, Updated weights: [-0.12765304  0.86762905  0.15282209], Total error: 0.06551312030373643\n",
      "Iteration# 14, Updated weights: [-0.10936654  0.88676899  0.13083208], Total error: 0.048011868728004184\n",
      "Iteration# 15, Updated weights: [-0.09367848  0.90311958  0.11200518], Total error: 0.0351861487503976\n",
      "Iteration# 16, Updated weights: [-0.08022791  0.91709581  0.09588684], Total error: 0.02578673841479428\n",
      "Iteration# 17, Updated weights: [-0.06870076  0.92904767  0.08208764], Total error: 0.018898267035577135\n",
      "Iteration# 18, Updated weights: [-0.05882505  0.93927153  0.07027406], Total error: 0.013849945568771406\n",
      "Iteration# 19, Updated weights: [-0.05036605  0.94801916  0.06016046], Total error: 0.010150196831277703\n",
      "Iteration# 20, Updated weights: [-0.04312168  0.9555049   0.05150229], Total error: 0.007438768700589977\n",
      "Iteration# 21, Updated weights: [-0.03691821  0.96191149  0.04409013], Total error: 0.0054516475278460685\n",
      "Iteration# 22, Updated weights: [-0.03160651  0.96739495  0.03774469], Total error: 0.0039953475437553634\n",
      "Iteration# 23, Updated weights: [-0.02705865  0.97208856  0.03231246], Total error: 0.002928069702679618\n",
      "Iteration# 24, Updated weights: [-0.02316493  0.97610625  0.02766203], Total error: 0.0021458941436183817\n",
      "Iteration# 25, Updated weights: [-0.01983136  0.97954547  0.02368088], Total error: 0.001572661311131819\n",
      "Iteration# 26, Updated weights: [-0.01697742  0.98248955  0.0202727 ], Total error: 0.0011525562452971802\n",
      "Iteration# 27, Updated weights: [-0.01453414  0.98500983  0.01735502], Total error: 0.0008446738822141715\n",
      "Iteration# 28, Updated weights: [-0.01244245  0.98716733  0.01485726], Total error: 0.0006190361502637293\n",
      "Iteration# 29, Updated weights: [-0.01065176  0.98901428  0.01271898], Total error: 0.0004536730312224534\n",
      "Iteration# 30, Updated weights: [-0.00911877  0.9905954   0.01088845], Total error: 0.0003324833632841439\n"
     ]
    }
   ],
   "source": [
    "import numpy as np\n",
    "\n",
    "# traffic lights dataset (each row is and instance, the first three coulumns are the attributes and the last column is the label)\n",
    "traffic_lights = np.array([ [1, 0, 1, 0], \n",
    "                            [0, 1, 1, 1],\n",
    "                            [0, 0, 1, 0],\n",
    "                            [1, 1, 1, 1],\n",
    "                            [0, 1, 1, 1],\n",
    "                            [1, 0, 1, 0]] )\n",
    "\n",
    "# number of gradient descent iterations\n",
    "niters = 30\n",
    "\n",
    "# learning rate (i.e gradient descent step-size)\n",
    "alpha = 0.1\n",
    "\n",
    "# initialize random weights\n",
    "weights = np.random.randn(3) \n",
    "print(f\"Initial weights: {weights}\")\n",
    "\n",
    "# train the network\n",
    "for i in range(niters):\n",
    "\n",
    "    total_error = 0.0\n",
    "    for j in range(traffic_lights.shape[0]):\n",
    "        \n",
    "        input = traffic_lights[j, :-1]\n",
    "        target = traffic_lights[j, -1]\n",
    "         \n",
    "        # compute prediction\n",
    "        prediction = np.dot(weights, input) \n",
    "        \n",
    "        # compute squared error\n",
    "        error = (prediction - target)**2\n",
    "        total_error += error\n",
    "\n",
    "        # compute gradient of error w.r.t. weights\n",
    "        grad = 2 * (prediction - target) * input\n",
    "\n",
    "        # optimize weights using gradient descent\n",
    "        weights -= alpha * grad\n",
    "\n",
    "    print(f\"Iteration# {i+1}, Updated weights: {weights}, Total error: {total_error}\")\n",
    "\n"
   ]
  },
  {
   "cell_type": "code",
   "execution_count": null,
   "metadata": {},
   "outputs": [],
   "source": []
  },
  {
   "cell_type": "markdown",
   "metadata": {},
   "source": []
  }
 ],
 "metadata": {
  "kernelspec": {
   "display_name": "base",
   "language": "python",
   "name": "python3"
  },
  "language_info": {
   "codemirror_mode": {
    "name": "ipython",
    "version": 3
   },
   "file_extension": ".py",
   "mimetype": "text/x-python",
   "name": "python",
   "nbconvert_exporter": "python",
   "pygments_lexer": "ipython3",
   "version": "3.9.13"
  },
  "orig_nbformat": 4
 },
 "nbformat": 4,
 "nbformat_minor": 2
}
