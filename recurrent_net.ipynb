{
 "cells": [
  {
   "attachments": {},
   "cell_type": "markdown",
   "id": "601fbf17",
   "metadata": {},
   "source": [
    "Creating sentence embeddings using transition matrices that takes into account, the ordering of the words in the sentence. \n",
    "\n",
    "In the following simple example, we will use a vocabulary of nine words and implement the forward propagation part of a neural network that will predict the next word in a sentence (i.e sequence of words). A sentence embedding is created by multiplying each word by a recurrance matrix, and summing up the resulting vectors. The recurrance matrix is initialized as an identity matrix of size equal to the hidden neurons (which is the number of columns in the wieght matrix). The recurrance matrix is optimized via gradient descent when training the neural net.  "
   ]
  },
  {
   "cell_type": "code",
   "execution_count": 1,
   "id": "679bb067",
   "metadata": {},
   "outputs": [],
   "source": [
    "import numpy as np\n",
    "\n",
    "def softmax(x):\n",
    "    temp = np.exp(x)\n",
    "    s = np.sum(temp, axis = 1, keepdims = True)\n",
    "    return  temp / s  \n",
    "\n",
    "vocab_size = 9\n",
    "hidden_neurons = 3\n",
    "\n",
    "# hidden layer weights intialized to zero\n",
    "W0 = np.zeros(shape=(vocab_size, hidden_neurons))\n",
    "\n",
    "# output layer weights initialed to random values\n",
    "W1 = np.random.randn(hidden_neurons, vocab_size) \n",
    "\n",
    "# words vectors for our vocabulary (i.e. rows of the hidden layer weights matrix corresponding to each word in the vocabulary)\n",
    "word_vecs = {}\n",
    "word_vecs['yankees'] = W0[0:1]\n",
    "word_vecs['bears'] = W0[1:2]\n",
    "word_vecs['braves'] = W0[2:3]\n",
    "word_vecs['red'] = W0[3:4]\n",
    "word_vecs['sox'] = W0[4:5]\n",
    "word_vecs['lose'] = W0[5:6]\n",
    "word_vecs['defeat'] = W0[6:7]\n",
    "word_vecs['beat'] = W0[7:8]\n",
    "word_vecs['tie'] = W0[8:9]\n",
    "\n",
    "# recurrance matrix initialized to identity \n",
    "rec = np.eye(3)\n"
   ]
  },
  {
   "cell_type": "markdown",
   "id": "cd16093a",
   "metadata": {},
   "source": [
    "**Forward Propagation**\n",
    "\n",
    "Given an input sequence of three words, the word_vector for the first word in the sequence is passed on by the first layer to the second layer where it is multiplied by the transition matrix and added to the next word vector in the sequence. The result is then passed on to the next layer where we repeat this process of multiplying the layer input by the traisition matrix and adding to the next word_vector. After the last word_vector in the sequence is added, we pass the result on to the output layer where it gets multiplied to the output layer weights and operated on by the softmax function to obtain the final prediction. "
   ]
  },
  {
   "cell_type": "code",
   "execution_count": 2,
   "id": "b1377ff6",
   "metadata": {},
   "outputs": [],
   "source": [
    "input_sequence = ['red', 'sox', 'defeat']\n",
    "layer_0 = word_vecs[input_sequence[0]]\n",
    "layer_1 = np.dot(layer_0, rec) + word_vecs[input_sequence[1]]\n",
    "layer_2 = np.dot(layer_1, rec) + word_vecs[input_sequence[2]]\n",
    "pred = softmax(np.dot(layer_2, W1))"
   ]
  },
  {
   "cell_type": "markdown",
   "id": "e40cd60d",
   "metadata": {},
   "source": [
    "**Backpropagation**\n",
    "\n",
    "Now we will do the backpropagation and compute gradients of the word_vectors and transition matrix"
   ]
  },
  {
   "cell_type": "code",
   "execution_count": 3,
   "id": "f6053e9d",
   "metadata": {},
   "outputs": [],
   "source": [
    "# the target word is 'yankees', whch is the first word in our vocab \n",
    "y = np.zeros(shape=(1,vocab_size))\n",
    "y[0,0] = 1\n",
    "\n",
    "# error\n",
    "E = (pred - y) * (pred - y)\n",
    "\n",
    "# dE/dP\n",
    "dP = 2 * (pred - y)\n",
    "W1_grad = np.dot(layer_2.T, dP)\n",
    "\n",
    "# dE_dL2\n",
    "dL2 = np.dot(dP, W1.T)\n",
    "\n",
    "# dE_d(defeat)\n",
    "d_defeat = dL2 * 1\n",
    "W_defeat_grad = d_defeat\n",
    "\n",
    "# dE_dL1\n",
    "dL1 = np.dot(dL2, rec.T) \n",
    "rec_grad_2 = np.dot(layer_1.T, dL2)\n",
    "\n",
    "# dE_d(sox)\n",
    "d_sox = dL1 * 1\n",
    "W_sox_grad = d_sox\n",
    "\n",
    "# dE_dL0\n",
    "dL0 = np.dot(dL1, rec.T)\n",
    "rec_grad_1 = np.dot(layer_0.T, dL1)\n",
    "W_red_grad = dL0 * 1\n",
    "\n",
    "\n"
   ]
  },
  {
   "attachments": {},
   "cell_type": "markdown",
   "id": "8faeefcd",
   "metadata": {},
   "source": [
    "**Optimization**\n",
    "\n",
    "Now update the weights and recurrance matrix via gradient descent"
   ]
  },
  {
   "cell_type": "code",
   "execution_count": 4,
   "id": "3b7ed5b4",
   "metadata": {},
   "outputs": [],
   "source": [
    "alpha = 0.01\n",
    "W1 -= alpha * W1_grad\n",
    "word_vecs['defeat'] -= alpha * W_defeat_grad\n",
    "word_vecs['sox'] -= alpha * W_sox_grad\n",
    "word_vecs['red'] -= alpha * W_red_grad\n",
    "rec -= alpha * (rec_grad_2 + rec_grad_1) \n"
   ]
  },
  {
   "attachments": {},
   "cell_type": "markdown",
   "id": "d58700f8",
   "metadata": {},
   "source": [
    "**Training Loop**"
   ]
  },
  {
   "cell_type": "code",
   "execution_count": 5,
   "id": "f634b0d4",
   "metadata": {},
   "outputs": [
    {
     "name": "stdout",
     "output_type": "stream",
     "text": [
      "Iteration# 0, Error: 0.8832002409202536, prediction: 0.11397387590254364\n",
      "Iteration# 1, Error: 0.8775714312236446, prediction: 0.1168432460076361\n",
      "Iteration# 2, Error: 0.8719695712531421, prediction: 0.11973548353444052\n",
      "Iteration# 3, Error: 0.8663619954996725, prediction: 0.12266719322796879\n",
      "Iteration# 4, Error: 0.8607158900148766, prediction: 0.12565549581973504\n"
     ]
    }
   ],
   "source": [
    "niters = 5\n",
    "alpha = 2\n",
    "\n",
    "for iter in range(niters):\n",
    "    \n",
    "    # forward pass\n",
    "    input_sequence = ['red', 'sox', 'defeat']\n",
    "    layer_0 = word_vecs[input_sequence[0]]\n",
    "    layer_1 = np.dot(layer_0, rec) + word_vecs[input_sequence[1]]\n",
    "    layer_2 = np.dot(layer_1, rec) + word_vecs[input_sequence[2]]\n",
    "    pred = softmax(np.dot(layer_2, W1))\n",
    "\n",
    "    # backpropagation\n",
    "\n",
    "    # the target word is 'yankees', whch is the first word in our vocab \n",
    "    y = np.zeros(shape=(1,vocab_size))\n",
    "    y[0,0] = 1\n",
    "\n",
    "    # error\n",
    "    error = (pred - y) * (pred - y)\n",
    "\n",
    "    # dE/dP\n",
    "    dP = 2 * (pred - y)\n",
    "    W1_grad = np.dot(layer_2.T, dP)\n",
    "\n",
    "    # dE_dL2\n",
    "    dL2 = np.dot(dP, W1.T)\n",
    "\n",
    "    # dE_d(defeat)\n",
    "    d_defeat = dL2 * 1\n",
    "    W_defeat_grad = d_defeat\n",
    "\n",
    "    # dE_dL1\n",
    "    dL1 = np.dot(dL2, rec.T) \n",
    "    rec_grad_2 = np.dot(layer_1.T, dL2)\n",
    "\n",
    "    # dE_d(sox)\n",
    "    d_sox = dL1 * 1\n",
    "    W_sox_grad = d_sox\n",
    "\n",
    "    # dE_dL0\n",
    "    dL0 = np.dot(dL1, rec.T)\n",
    "    rec_grad_1 = np.dot(layer_0.T, dL1)\n",
    "    W_red_grad = dL0 * 1\n",
    "\n",
    "    # optimization\n",
    "    alpha = 0.01\n",
    "    W1 -= alpha * W1_grad\n",
    "    word_vecs['defeat'] -= alpha * W_defeat_grad\n",
    "    word_vecs['sox'] -= alpha * W_sox_grad\n",
    "    word_vecs['red'] -= alpha * W_red_grad\n",
    "    rec -= alpha * (rec_grad_2 + rec_grad_1) \n",
    "\n",
    "    print(f\"Iteration# {iter}, Error: {np.sum(error)}, prediction: {pred[0,0]}\")\n"
   ]
  },
  {
   "attachments": {},
   "cell_type": "markdown",
   "id": "29140665",
   "metadata": {},
   "source": [
    "Training this network to answer simple questions with the Babi dataset."
   ]
  },
  {
   "cell_type": "code",
   "execution_count": 6,
   "id": "01574f58",
   "metadata": {},
   "outputs": [],
   "source": [
    "import sys, math, random\n",
    "import numpy as np\n",
    "from collections import Counter"
   ]
  },
  {
   "cell_type": "code",
   "execution_count": 7,
   "id": "aa0c9d57",
   "metadata": {},
   "outputs": [],
   "source": [
    "# read training data from file\n",
    "f = open('tasksv11/en/qa1_single-supporting-fact_train.txt', 'r')\n",
    "raw = f.readlines()\n",
    "f.close()"
   ]
  },
  {
   "cell_type": "code",
   "execution_count": 8,
   "id": "9cb838dd",
   "metadata": {},
   "outputs": [],
   "source": [
    "# tokenize the first 1000 senteneces (remove numbers, newline characters and punctuations)\n",
    "tokens= []\n",
    "for i, sentence in enumerate(raw[0:1000]):\n",
    "    tokenized_sent = sentence.lower().replace(\"\\n\",\"\").replace(\"\\t\",\"\").replace(\"?\",\"\").replace(\".\",\"\").split(\" \")[1:] \n",
    "    if((i+1)%3 == 0):\n",
    "        # get rid of number from the last word\n",
    "        last_word = tokenized_sent[-1]\n",
    "        tokenized_sent[-1] = \"\".join([char for char in last_word if not char.isnumeric()])\n",
    "    tokens.append(tokenized_sent)"
   ]
  },
  {
   "cell_type": "code",
   "execution_count": 9,
   "id": "73474bf5",
   "metadata": {},
   "outputs": [],
   "source": [
    "# create a vocabulary from the data\n",
    "vocab = set()\n",
    "for sentence in tokens:\n",
    "    for word in sentence:\n",
    "        vocab.add(word)\n",
    "vocab = list(vocab)\n",
    "\n",
    "# create a dictionary of vocab word indices\n",
    "word_index = {}\n",
    "for i, word in enumerate(vocab):\n",
    "    word_index[word] = i"
   ]
  },
  {
   "cell_type": "code",
   "execution_count": 10,
   "id": "edbf1c6d",
   "metadata": {},
   "outputs": [],
   "source": [
    "# function for converting a list of words into a list of word indices\n",
    "def words_to_indices(words):\n",
    "    indices = [word_index[word] for word in words]\n",
    "    return indices\n",
    "\n",
    "def softmax(x):\n",
    "    temp = np.exp(x)\n",
    "    s = np.sum(temp, axis = 1, keepdims = True)\n",
    "    return  temp / s  \n"
   ]
  },
  {
   "attachments": {},
   "cell_type": "markdown",
   "id": "3205abbf",
   "metadata": {},
   "source": [
    "**`Recurrent Neural Nets`**\n",
    "\n",
    "We will now design a neural network which can be trained to predict the next word in a sentence. To do this, it will be given an input list of words. The forward propagation will involve a sequence of hidden layers (aka `recurrent layers`) corresponding to the given sequence of words. Then we create an `order-dependent sentence embedding` using the method outlined previously, `multiplying each word embedding vector (i.e. hidden layer W0 matrix row corresponding to that word) in the sequence with the recurrance matrix before adding it to the next word vector`, initiating with the \"empty sentence\" vector (which is just a blank word, i.e. vector of zeros). The resulting sentence embedding forward propagated by each hidden layer can then be multiplied by the output layer weights matrix W1 and operated on by the softmax function to obtain a prediction. So we have a prediction for the next word for every partial sequence of our full sequence of words.\n",
    "\n",
    "Note that this nueral net design architectire supports variable length input sentences via `variable number of hidden/recurrance layers`. "
   ]
  },
  {
   "cell_type": "code",
   "execution_count": 11,
   "id": "5c1486dc",
   "metadata": {},
   "outputs": [],
   "source": [
    "np.random.seed(1)\n",
    "\n",
    "input_neurons = len(vocab) \n",
    "hidden_neurons = 10 # aka \"embedding size\"\n",
    "output_neurons = len(vocab)\n",
    "\n",
    "# initialize the hidden layer weights (random number between -0.05 and 0.05)\n",
    "W0 = 0.1 * (np.random.rand(input_neurons, hidden_neurons) - 0.5)\n",
    "\n",
    "# initialize output layer weights  (random number between -0.05 and 0.05) \n",
    "W1 = 0.1 *(np.random.rand(hidden_neurons, output_neurons) - 0.5)\n",
    "\n",
    "# initialize recurrance matrix to identity matrix\n",
    "rec = np.eye(hidden_neurons)\n",
    "\n",
    "# onhot encoded vocabulary\n",
    "onehots = np.eye(len(vocab))\n",
    "\n",
    "# sentence embedding for an empty sentence\n",
    "empty_sent = np.zeros(hidden_neurons)"
   ]
  },
  {
   "cell_type": "code",
   "execution_count": 12,
   "id": "0592d7ab",
   "metadata": {},
   "outputs": [],
   "source": [
    "# this is the forward propagation poart of our recurrent neural network\n",
    "# the input sentence needs to be a list of word indices\n",
    "def forward(sent):\n",
    "\n",
    "    # create a list for the variable number of hidden/recurrance layers to support variable length sentences\n",
    "    layers = []\n",
    "    layer = {}\n",
    "    # initialize first hidden layer input as the empty sentence vector\n",
    "    layer['hidden'] = empty_sent\n",
    "    layers.append(layer)\n",
    "\n",
    "    loss = 0\n",
    "\n",
    "    for ix, next_word_index in enumerate(sent):\n",
    "\n",
    "        layer = {}\n",
    "\n",
    "        # compute prediction for the next word after this partial sequenc up to the target index\n",
    "        layer['prediction'] = softmax(np.dot(layers[-1]['hidden'], W1))\n",
    "        \n",
    "        # compute the prediction error\n",
    "        layer['target_index'] =  next_word_index\n",
    "        layer['error'] = layer['prediction'] - onehots[layer['target_index']:layer['target_index']+1]\n",
    "        \n",
    "        loss += -np.log(layer['prediction'][next_word_index]) \n",
    "\n",
    "        # mutliply hidden layer input with recurrance matrix and add the next word vector to generate the input for the next hidden layer\n",
    "        layer['hidden'] = np.dot(layers[-1]['hidden'], rec) + W0[layer['target_index']]\n",
    "\n",
    "        layers.append(layer)\n",
    "\n",
    "    return layers, loss  \n",
    "\n",
    "# backpropagation part\n",
    "def backpropagation(layers):\n",
    "\n",
    "    # starting at the output layer, backpropagate the gradients all the way up to the first hidden layer\n",
    "    for ix in reversed(range(len(layers))): \n",
    "\n",
    "        layer = layers[ix]\n",
    "        \n",
    "        # dE_dP\n",
    "        layer['dE_dP'] = 2 * layer['error']    \n",
    "\n",
    "\n",
    "        # if this is the output layer, we don't have any graients backpropagated from any layers in front\n",
    "        # and we need to compute the gradient of the output weights matrix W1\n",
    "        if(ix == (len(layers)-1)):\n",
    "\n",
    "            # dE_dL\n",
    "            layer['dE_dL'] = np.dot(layer['dE_dP'] , W1.T)\n",
    "\n",
    "            prev_layer = layer[ix-1] \n",
    "            # dE_dW1\n",
    "            layer['dE_W1'] = np.dot(prev_layer['hidden'], layer['dE_dP']) \n",
    "\n",
    "        else:\n",
    "\n",
    "            next_layer = layer[ix+1] \n",
    "            prev_layer = layer[ix-1] \n",
    "\n",
    "            # dE_dW0\n",
    "            layer['dE_W0'] = next_layer['dE_dL']\n",
    "\n",
    "            # dE_dR\n",
    "            layer['dE_dR'] = np.dot(prev_layer['hidden'].T, next_layer['dE_dL']) \n",
    "\n",
    "            # dE_dW1\n",
    "            layer['dE_dW1'] = np.dot(prev_layer['hidden'].T, layer['dE_dP'])      \n",
    "\n",
    "            # if this is the first layer, we don't need to compute dE_dL0\n",
    "            if(ix != 0):\n",
    "                # dE_dL\n",
    "                layer['dE_dL'] = np.dot(next_layer['dE_dL'], rec.T) + np.dot(layer['dE_dP'], W1.T)   \n",
    "         \n",
    "\n"
   ]
  },
  {
   "cell_type": "code",
   "execution_count": null,
   "id": "22aff640",
   "metadata": {},
   "outputs": [],
   "source": []
  }
 ],
 "metadata": {
  "kernelspec": {
   "display_name": "Python 3 (ipykernel)",
   "language": "python",
   "name": "python3"
  },
  "language_info": {
   "codemirror_mode": {
    "name": "ipython",
    "version": 3
   },
   "file_extension": ".py",
   "mimetype": "text/x-python",
   "name": "python",
   "nbconvert_exporter": "python",
   "pygments_lexer": "ipython3",
   "version": "3.9.13"
  }
 },
 "nbformat": 4,
 "nbformat_minor": 5
}
